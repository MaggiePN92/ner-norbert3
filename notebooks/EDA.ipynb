{
 "cells": [
  {
   "cell_type": "code",
   "execution_count": 1,
   "id": "6f9fd936",
   "metadata": {},
   "outputs": [],
   "source": [
    "from data.data_utils import get_data"
   ]
  },
  {
   "cell_type": "code",
   "execution_count": 2,
   "id": "dc1ceb97",
   "metadata": {},
   "outputs": [],
   "source": [
    "data = get_data(\"data/norne-nb-in5550-train.conllu.gz\")"
   ]
  },
  {
   "cell_type": "code",
   "execution_count": 45,
   "id": "b997253e",
   "metadata": {},
   "outputs": [
    {
     "data": {
      "text/plain": [
       "18098"
      ]
     },
     "execution_count": 45,
     "metadata": {},
     "output_type": "execute_result"
    }
   ],
   "source": [
    "len(data[0])"
   ]
  },
  {
   "cell_type": "code",
   "execution_count": 46,
   "id": "229775fc",
   "metadata": {},
   "outputs": [
    {
     "name": "stdout",
     "output_type": "stream",
     "text": [
      "15.512984860205547\n"
     ]
    }
   ],
   "source": [
    "lens = 0\n",
    "i = len(data[0])\n",
    "for s in data[0]:\n",
    "    lens += len(s)\n",
    "\n",
    "print(lens/i)"
   ]
  },
  {
   "cell_type": "markdown",
   "id": "d3623b4a",
   "metadata": {},
   "source": [
    "### Tokens"
   ]
  },
  {
   "cell_type": "code",
   "execution_count": 3,
   "id": "0c33e3e0",
   "metadata": {},
   "outputs": [],
   "source": [
    "max_len = 0\n",
    "max_idx = None\n",
    "\n",
    "for i,s in enumerate(data[0]):\n",
    "    if len(s) > max_len:\n",
    "        max_len = len(s)\n",
    "        max_idx = i"
   ]
  },
  {
   "cell_type": "code",
   "execution_count": 4,
   "id": "74db0d2e",
   "metadata": {},
   "outputs": [
    {
     "data": {
      "text/plain": [
       "91"
      ]
     },
     "execution_count": 4,
     "metadata": {},
     "output_type": "execute_result"
    }
   ],
   "source": [
    "# longest sentence\n",
    "max_len"
   ]
  },
  {
   "cell_type": "code",
   "execution_count": 5,
   "id": "ccedb0c0",
   "metadata": {},
   "outputs": [],
   "source": [
    "lens = [len(s) for s in data[0]]"
   ]
  },
  {
   "cell_type": "code",
   "execution_count": 6,
   "id": "87da3daf",
   "metadata": {},
   "outputs": [
    {
     "data": {
      "text/plain": [
       "72"
      ]
     },
     "execution_count": 6,
     "metadata": {},
     "output_type": "execute_result"
    }
   ],
   "source": [
    "# unique lengths\n",
    "len(set(lens))"
   ]
  },
  {
   "cell_type": "code",
   "execution_count": 7,
   "id": "a492f243",
   "metadata": {},
   "outputs": [
    {
     "data": {
      "text/plain": [
       "1"
      ]
     },
     "execution_count": 7,
     "metadata": {},
     "output_type": "execute_result"
    }
   ],
   "source": [
    "# shortest sentence\n",
    "min(lens)"
   ]
  },
  {
   "cell_type": "code",
   "execution_count": null,
   "id": "ebfb2769",
   "metadata": {},
   "outputs": [],
   "source": []
  },
  {
   "cell_type": "code",
   "execution_count": 8,
   "id": "31d9cd83",
   "metadata": {},
   "outputs": [],
   "source": [
    "import matplotlib.pyplot as plt"
   ]
  },
  {
   "cell_type": "code",
   "execution_count": 10,
   "id": "2e44987d",
   "metadata": {},
   "outputs": [
    {
     "data": {
      "text/plain": [
       "[]"
      ]
     },
     "execution_count": 10,
     "metadata": {},
     "output_type": "execute_result"
    },
    {
     "data": {
      "image/png": "[encoded data removed]",
      "text/plain": [
       "<Figure size 640x480 with 1 Axes>"
      ]
     },
     "metadata": {},
     "output_type": "display_data"
    }
   ],
   "source": [
    "plt.title(\"Distribtuion of # tokens\")\n",
    "plt.xlabel(\"# tokens\")\n",
    "plt.ylabel(\"count\")\n",
    "n, bins, _ = plt.hist(lens, bins=72)\n",
    "plt.plot()"
   ]
  },
  {
   "cell_type": "markdown",
   "id": "fb34030c",
   "metadata": {},
   "source": [
    "### Encoded text"
   ]
  },
  {
   "cell_type": "code",
   "execution_count": 11,
   "id": "34e80e19",
   "metadata": {},
   "outputs": [],
   "source": [
    "from transformers import AutoTokenizer"
   ]
  },
  {
   "cell_type": "code",
   "execution_count": 12,
   "id": "23283cc9",
   "metadata": {},
   "outputs": [],
   "source": [
    "tokenizer = AutoTokenizer.from_pretrained(\"bert-base-cased\")\n",
    "\n",
    "def get_input_ids(txt):\n",
    "    return tokenizer(\n",
    "        txt, \n",
    "        padding=True,\n",
    "        truncation=True,\n",
    "        is_split_into_words=True,\n",
    "        max_length=194\n",
    "    )[\"input_ids\"]"
   ]
  },
  {
   "cell_type": "code",
   "execution_count": 13,
   "id": "4f98e07f",
   "metadata": {},
   "outputs": [],
   "source": [
    "inp_ids = [get_input_ids(doc) for doc in data[0]]"
   ]
  },
  {
   "cell_type": "code",
   "execution_count": 49,
   "id": "4819b5e4",
   "metadata": {},
   "outputs": [
    {
     "name": "stdout",
     "output_type": "stream",
     "text": [
      "36.66051497403028\n"
     ]
    }
   ],
   "source": [
    "ids_lens = 0\n",
    "for s in inp_ids:\n",
    "    ids_lens += len(s)\n",
    "\n",
    "print(ids_lens/i)"
   ]
  },
  {
   "cell_type": "code",
   "execution_count": 14,
   "id": "d872d694",
   "metadata": {},
   "outputs": [
    {
     "data": {
      "text/plain": [
       "194"
      ]
     },
     "execution_count": 14,
     "metadata": {},
     "output_type": "execute_result"
    }
   ],
   "source": [
    "# max length \n",
    "max([len(ids) for ids in inp_ids])"
   ]
  },
  {
   "cell_type": "code",
   "execution_count": 15,
   "id": "240eceaa",
   "metadata": {},
   "outputs": [],
   "source": [
    "inp_ids_len = [len(ids) for ids in inp_ids]"
   ]
  },
  {
   "cell_type": "code",
   "execution_count": 16,
   "id": "486436e4",
   "metadata": {},
   "outputs": [
    {
     "data": {
      "text/plain": [
       "156"
      ]
     },
     "execution_count": 16,
     "metadata": {},
     "output_type": "execute_result"
    }
   ],
   "source": [
    "len(set(inp_ids_len))"
   ]
  },
  {
   "cell_type": "code",
   "execution_count": 17,
   "id": "603a1c21",
   "metadata": {},
   "outputs": [
    {
     "data": {
      "text/plain": [
       "[]"
      ]
     },
     "execution_count": 17,
     "metadata": {},
     "output_type": "execute_result"
    },
    {
     "data": {
      "image/png": "[encoded data removed]",
      "text/plain": [
       "<Figure size 640x480 with 1 Axes>"
      ]
     },
     "metadata": {},
     "output_type": "display_data"
    }
   ],
   "source": [
    "plt.title(\"Distribtuion of # sub tokens\")\n",
    "plt.xlabel(\"# sub tokens\")\n",
    "plt.ylabel(\"count\")\n",
    "n, bins, _ = plt.hist(inp_ids_len, bins=156)\n",
    "plt.plot()"
   ]
  },
  {
   "cell_type": "markdown",
   "id": "6a9e2441",
   "metadata": {},
   "source": [
    "### Labels"
   ]
  },
  {
   "cell_type": "code",
   "execution_count": 18,
   "id": "cf250137",
   "metadata": {},
   "outputs": [],
   "source": [
    "unique_labels = []\n",
    "\n",
    "for ls in data[1]:\n",
    "    unique_labels.extend([l for l in ls if l not in unique_labels])\n",
    "    \n",
    "unique_labels_set = set(unique_labels)"
   ]
  },
  {
   "cell_type": "code",
   "execution_count": 19,
   "id": "e4fe699c",
   "metadata": {},
   "outputs": [
    {
     "data": {
      "text/plain": [
       "{'B-DRV',\n",
       " 'B-EVT',\n",
       " 'B-GPE_LOC',\n",
       " 'B-GPE_ORG',\n",
       " 'B-LOC',\n",
       " 'B-ORG',\n",
       " 'B-PER',\n",
       " 'B-PROD',\n",
       " 'I-DRV',\n",
       " 'I-EVT',\n",
       " 'I-GPE_LOC',\n",
       " 'I-GPE_ORG',\n",
       " 'I-LOC',\n",
       " 'I-ORG',\n",
       " 'I-PER',\n",
       " 'I-PROD',\n",
       " 'O'}"
      ]
     },
     "execution_count": 19,
     "metadata": {},
     "output_type": "execute_result"
    }
   ],
   "source": [
    "unique_labels_set"
   ]
  },
  {
   "cell_type": "code",
   "execution_count": 85,
   "id": "ec15bb53",
   "metadata": {},
   "outputs": [
    {
     "data": {
      "text/plain": [
       "17"
      ]
     },
     "execution_count": 85,
     "metadata": {},
     "output_type": "execute_result"
    }
   ],
   "source": [
    "len(unique_labels_set)"
   ]
  },
  {
   "cell_type": "code",
   "execution_count": 20,
   "id": "d7252592",
   "metadata": {},
   "outputs": [],
   "source": [
    "label_count = {k:0 for k in unique_labels_set}"
   ]
  },
  {
   "cell_type": "code",
   "execution_count": 21,
   "id": "5587d971",
   "metadata": {},
   "outputs": [],
   "source": [
    "for ls in data[1]:\n",
    "    for c in ls:\n",
    "        label_count[c] += 1\n",
    "    "
   ]
  },
  {
   "cell_type": "code",
   "execution_count": 22,
   "id": "53dbe014",
   "metadata": {},
   "outputs": [
    {
     "data": {
      "text/plain": [
       "{'B-LOC': 755,\n",
       " 'B-GPE_ORG': 450,\n",
       " 'I-LOC': 279,\n",
       " 'I-PROD': 707,\n",
       " 'B-DRV': 596,\n",
       " 'I-GPE_LOC': 230,\n",
       " 'B-EVT': 136,\n",
       " 'I-EVT': 67,\n",
       " 'I-GPE_ORG': 24,\n",
       " 'I-DRV': 149,\n",
       " 'B-GPE_LOC': 2371,\n",
       " 'I-PER': 2600,\n",
       " 'B-PER': 4729,\n",
       " 'O': 262604,\n",
       " 'I-ORG': 1029,\n",
       " 'B-PROD': 810,\n",
       " 'B-ORG': 3218}"
      ]
     },
     "execution_count": 22,
     "metadata": {},
     "output_type": "execute_result"
    }
   ],
   "source": [
    "label_count"
   ]
  },
  {
   "cell_type": "code",
   "execution_count": 33,
   "id": "1d47768f",
   "metadata": {},
   "outputs": [],
   "source": [
    "new_keys = [l[l.find(\"-\")+1:] for l in label_count.keys()]\n",
    "\n",
    "label_non_pos = {}\n",
    "for k in new_keys:\n",
    "    if k not in label_non_pos:\n",
    "        label_non_pos[k] = label_count[f\"B-{k}\"]\n",
    "        label_non_pos[k] += label_count[f\"I-{k}\"]"
   ]
  },
  {
   "cell_type": "code",
   "execution_count": 28,
   "id": "dc8c9199",
   "metadata": {},
   "outputs": [
    {
     "data": {
      "text/plain": [
       "[]"
      ]
     },
     "execution_count": 28,
     "metadata": {},
     "output_type": "execute_result"
    },
    {
     "data": {
      "image/png": "[encoded data removed]",
      "text/plain": [
       "<Figure size 1600x400 with 1 Axes>"
      ]
     },
     "metadata": {},
     "output_type": "display_data"
    }
   ],
   "source": [
    "#del label_count[\"O\"]\n",
    "plt.figure(figsize=(16,4))\n",
    "plt.bar(label_count.keys(), label_count.values(), 1.0, color='g')\n",
    "plt.plot()"
   ]
  },
  {
   "cell_type": "code",
   "execution_count": 42,
   "id": "30f1bd26",
   "metadata": {},
   "outputs": [
    {
     "data": {
      "text/plain": [
       "[]"
      ]
     },
     "execution_count": 42,
     "metadata": {},
     "output_type": "execute_result"
    },
    {
     "data": {
      "image/png": "[encoded data removed]",
      "text/plain": [
       "<Figure size 1000x600 with 1 Axes>"
      ]
     },
     "metadata": {},
     "output_type": "display_data"
    }
   ],
   "source": [
    "labels_sorted = [(k,v) for k,v in label_non_pos.items()]\n",
    "labels_sorted.sort(key=lambda x: x[1], reverse=True)\n",
    "plt.figure(figsize=(10,6))\n",
    "for lc in labels_sorted:\n",
    "    plt.bar(lc[0], lc[1], 1.0)#, color='g')\n",
    "\n",
    "plt.xlabel(\"Entities\")\n",
    "plt.ylabel(\"Count\")\n",
    "plt.plot()"
   ]
  },
  {
   "cell_type": "code",
   "execution_count": null,
   "id": "0f8cb70d",
   "metadata": {},
   "outputs": [],
   "source": []
  }
 ],
 "metadata": {
  "kernelspec": {
   "display_name": "Python 3 (ipykernel)",
   "language": "python",
   "name": "python3"
  },
  "language_info": {
   "codemirror_mode": {
    "name": "ipython",
    "version": 3
   },
   "file_extension": ".py",
   "mimetype": "text/x-python",
   "name": "python",
   "nbconvert_exporter": "python",
   "pygments_lexer": "ipython3",
   "version": "3.11.2"
  }
 },
 "nbformat": 4,
 "nbformat_minor": 5
}
